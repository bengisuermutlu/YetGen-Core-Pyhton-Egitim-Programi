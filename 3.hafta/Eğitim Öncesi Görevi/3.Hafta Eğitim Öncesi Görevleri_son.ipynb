{
  "cells": [
    {
      "cell_type": "markdown",
      "metadata": {
        "id": "tsD4YVAe_Te2"
      },
      "source": [
        "# Problem 1\n",
        "Bir sayının 7'ye bölünebilir olup olmadığını kontrol etmek \n",
        "için bir program yazın.\n",
        "\n",
        "İpucu: Mod operatörünü (%) kullanabilirsiniz."
      ]
    },
    {
      "cell_type": "code",
      "execution_count": 58,
      "metadata": {
        "id": "NGjvNwKx_Te7"
      },
      "outputs": [
        {
          "name": "stdout",
          "output_type": "stream",
          "text": [
            "bu sayı 7' ye tam bölünebilmektedir.\n"
          ]
        }
      ],
      "source": [
        "# 1.Problemin Çözümünü Buraya Yazınız\n",
        "x = int(input(\"bir sayi giriniz: \"))\n",
        "if x % 7 == 0 :\n",
        "    print(\"bu sayı 7' ye tam bölünebilmektedir.\")\n",
        "else :\n",
        "    print(\"bu sayı 7'ye  tam bölünememektedir.\")\n",
        "    "
      ]
    },
    {
      "cell_type": "markdown",
      "metadata": {
        "id": "Kg3qiBAI_Te8"
      },
      "source": [
        "# Problem 2\n",
        "Kullanıcıdan vize ve final notu isteyin. Girilen vize notunun %40’ı ve \n",
        "girilen finalnotunun ise %60’ı alınarak yıl sonu not ortalaması hesaplanacaktır. \n",
        "\n",
        "Bu not ortalaması eğer 85 ve üzeri ise AA, \n",
        "\n",
        "75 ve 85 arasında ise BA, \n",
        "\n",
        "70 ve 75 arasında ise BB, \n",
        "\n",
        "65 ve 70 arasında ise CB,\n",
        "\n",
        "60 ve 65 arasında ise CC,\n",
        "\n",
        "55 ve 60 arasında ise DC,\n",
        "\n",
        "50 ve 55 arasında ise DD olarak hesaplanacaktır. \n",
        "\n",
        "Bu öğrencinin yıl sonu toplam notu 50’nin altında ise FF ile dersten kalacaktır. \n",
        "\n",
        "Ayrıca öğrencinin final notu 50’nin altında ise direkt FF ile kalacaktır."
      ]
    },
    {
      "cell_type": "code",
      "execution_count": 20,
      "metadata": {
        "id": "MXTtCxI1_Te8"
      },
      "outputs": [
        {
          "name": "stdout",
          "output_type": "stream",
          "text": [
            "not ortalamanız BA\n"
          ]
        }
      ],
      "source": [
        "# 2.Problemin Çözümünü Buraya Yazınız\n",
        "vize = int(input(\"lütfen vize notunuzu giriniz: \"))\n",
        "final = int(input(\"lütfen final notunuzu giriniz: \"))\n",
        "yilsonu = (vize * 0.4) + (final * 0.6)\n",
        "if final < 50 :\n",
        "    print( \"final notunuz 50 nin altında olduğu için ff ile kaldınız.\")\n",
        "elif yilsonu >= 85 :\n",
        "    print(\" not ortalamanız AA \")\n",
        "elif 75 < yilsonu < 85 :\n",
        "    print(\"not ortalamanız BA\")\n",
        "elif 70 < yilsonu < 75 :\n",
        "    print( \"not ortalamanız BB\")\n",
        "elif 65 < yilsonu < 70 :\n",
        "    print(\"not ortalamanız CB \")\n",
        "elif 60 < yilsonu < 65 :\n",
        "    print(\"not ortalamanız CC\")\n",
        "elif 55 < yilsonu < 60 :\n",
        "    print(\"not ortalamanız DC\")\n",
        "elif 50 < yilsonu < 55 :\n",
        "    print(\"not ortalamanız DD\")\n",
        "elif yilsonu < 50 :\n",
        "    print(\"yıl sonu toplam notunuz 50'nin altında kaldığından FF ile kaldınız. \")\n",
        "\n"
      ]
    },
    {
      "cell_type": "markdown",
      "metadata": {
        "id": "tAoRYCTC_Te8"
      },
      "source": [
        "# Problem 3\n",
        "İki YetGenli Zirve'de karşılaşıyorlar. Birbirlerini tanımak için sorular soruyorlar. Birbirlerine yaşlarını soruyorlar. Akıllarına bir Python programı yazıp, yaşlarını ve isimlerini giriyorlar. Büyük olanın yaşını ekrana yazdıran programı yazıyorlar. Sende bu iki YetGenli'ye destek olmak ister misin?\n",
        "\n",
        "```\n",
        "Birinci YetGenlinin ismi: Ahmet\n",
        "Birinci YetGenlinin yaşı : 20\n",
        "İkinci YetGenlinin ismi: Mehmet\n",
        "İkinci YetGenlinin yaşı : 25\n",
        "Mehmet'in yaşı daha büyük ve yaşı 25'tir.\n",
        "```"
      ]
    },
    {
      "cell_type": "code",
      "execution_count": 16,
      "metadata": {
        "id": "bPjE8W0i_Te8"
      },
      "outputs": [
        {
          "name": "stdout",
          "output_type": "stream",
          "text": [
            "birinci yetgenlinin ismi: Ahmet\n",
            "birinci yetgenlinin yaşı: 20\n",
            "ikinci yetgenlinin ismi: Mehmet\n",
            "ikinci yetgenlinin yaşı: 25\n",
            "Mehmet 'in yaşı daha büyük ve yaşı 25 'tir.\n"
          ]
        }
      ],
      "source": [
        "# 3.Problemin Çözümünü Buraya Yazınız\n",
        "isim_1 = input(\"birinci yetgenlinin ismini giriniz: \")\n",
        "yas_1 = input(\"birinci yetgenlinin yaşını giriniz: \")\n",
        "isim_2 = input(\"ikinci yetgenlinin ismini giriniz: \")\n",
        "yas_2 = input(\"ikinci yetgenlinin yaşını giriniz: \")\n",
        "print(\"birinci yetgenlinin ismi:\", isim_1 )\n",
        "print(\"birinci yetgenlinin yaşı:\", yas_1 )\n",
        "print(\"ikinci yetgenlinin ismi:\", isim_2 )\n",
        "print(\"ikinci yetgenlinin yaşı:\", yas_2 )\n",
        "\n",
        "if yas_1 < yas_2 :\n",
        "    print(isim_2 , \"'in yaşı daha büyük ve yaşı\", yas_2 , \"'tir.\")\n",
        "elif yas_1 > yas_2 :\n",
        "    print(isim_1 , \"'in yaşı daha büyük ve yaşı\", yas_1 , \"'tir.\")\n",
        "    \n"
      ]
    },
    {
      "cell_type": "markdown",
      "metadata": {
        "id": "zBVv8Tyg_Te9"
      },
      "source": [
        "# Problem 4\n",
        "Pandemi döneminde AVM'lerde ateş ölçümü yapılıyor. AVM'ye giren kişinin ateş ölçümü 37.5 derecenin altında ise girişe izin veriliyor. 37.5 derecenin üstünde ise girişe izin verilmiyor. AVM'ye girişe izin verilip verilmediğini ekrana yazdıran bir program yazın.\n",
        "\n",
        "Program sonunda şöyle bir çıktı elde etmelisiniz:\n",
        "\n",
        "```\n",
        "Ateşiniz 37.5 derece. AVM'ye girebilirsin! Maske takmayı unutma!\n",
        "Ateşiniz 37.6 derece. AVM'ye giremezsin! Hemen evine dön!\n",
        "```"
      ]
    },
    {
      "cell_type": "code",
      "execution_count": 61,
      "metadata": {
        "id": "TSAXs8et_Te9"
      },
      "outputs": [
        {
          "name": "stdout",
          "output_type": "stream",
          "text": [
            "Ateşiniz 37.6 derece.AVM'ye giremezsin! Hemen evine dön!\n"
          ]
        }
      ],
      "source": [
        "# 4.Problemin Çözümünü Buraya Yazınız\n",
        "ates = float(input(\"lütfen ateşinizi giriniz: \"))\n",
        "if  ates <= 37.5 :\n",
        "    print(\"Ateşiniz\" , ates , \" derece. AVM' ye girebilirsin! Maske takmayı unutma!\")\n",
        "else : \n",
        "    print(\"Ateşiniz\" , ates , \"derece.AVM'ye giremezsin! Hemen evine dön!\")\n",
        " \n",
        "    \n",
        "        \n",
        "\n"
      ]
    },
    {
      "cell_type": "markdown",
      "metadata": {
        "id": "6AEkZrDt_Te9"
      },
      "source": [
        "# Problem 5\n",
        "YetGen bir spor kulübüyle sponsorluk anlaşması yapıyor. Kulüp, sponsorluk anlaşmasına göre her YetGen liderinin beden kitle indeksini hesaplamak istiyor. Spor kulübü, beden kitle indeksini hesaplamak için YetGen Jump Python liderlerinden Berkcan ve Ahmet'i arıyor. Berkcan ve Ahmet, kulübe yardımcı olmak için bir Python programı yazıyorlar. Sende bu iki YetGen liderine destek olmak ister misin?\n",
        "\n",
        "Kullanıcıdan alınan boy ve kilo değerlerine göre beden kitle indeksini hesaplayın ve şu kurallara göre ekrana şu yazıları yazdırın.\n",
        "\n",
        "\n",
        "Beden Kitle İndeksi, kişinin ağırlığının (kg olarak) boyunun karesine (m olarak) bölünmesiyle hesaplanır.\n",
        "\n",
        "\n",
        "```\n",
        " BKİ 18.5'un altındaysa -------> Zayıf\n",
        "\n",
        " BKİ 18.5 ile 25 arasındaysa ------> Normal\n",
        "\n",
        " BKİ 25 ile 30 arasındaysa --------> Fazla Kilolu\n",
        "\n",
        " BKİ 30'un üstündeyse -------------> Obez\n",
        "```\n",
        "\n"
      ]
    },
    {
      "cell_type": "code",
      "execution_count": 17,
      "metadata": {
        "id": "t-XPI_u0_Te-"
      },
      "outputs": [
        {
          "name": "stdout",
          "output_type": "stream",
          "text": [
            "Normal\n"
          ]
        }
      ],
      "source": [
        "# 5.Problemin Çözümünü Buraya Yazınız\n",
        "boy = float(input(\"lütfen boyunuzu giriniz: \"))\n",
        "kilo = int(input(\"lütfen kilonuzu giriniz: \"))\n",
        "bki = (kilo / (boy * boy))\n",
        "if bki < 18.5 :\n",
        "    print(\"Zayıf\")\n",
        "elif 18.5 < bki < 25 :\n",
        "    print(\"Normal\")\n",
        "elif 25 < bki < 30 :\n",
        "    print(\"Fazla Kilolu\")\n",
        "elif bki > 30 :\n",
        "    print(\"Obez\") "
      ]
    },
    {
      "cell_type": "markdown",
      "metadata": {
        "id": "oFsvQyaO_Te-"
      },
      "source": [
        "# Problem 6\n",
        "Kullanıcıdan isim, yaş ve eğitim bilgilerini isteyip ehliyet alabilme  durumunu kontrol ediniz. \n",
        "\n",
        "Ehliyet alma koşulu en az 18 yaşında ve eğitim durumu lise ya da üniversite olmalıdır. "
      ]
    },
    {
      "cell_type": "code",
      "execution_count": 57,
      "metadata": {
        "id": "Tu2mcgco_Te-"
      },
      "outputs": [
        {
          "name": "stdout",
          "output_type": "stream",
          "text": [
            "Bengisu ehliyet alma koşullarını sağlıyorsunuz.\n"
          ]
        }
      ],
      "source": [
        "# 6.Problemin Çözümünü Buraya Yazınız\n",
        "isim = str(input(\"lütfen isim giriniz: \"))\n",
        "yaş = int(input(\"lütfen yaş giriniz: \"))\n",
        "eğitim_durumu = str(input(\"lütfen eğitim durumunuzu giriniz: \"))\n",
        "\n",
        "\n",
        "if yaş >= 18 and eğitim_durumu == \"lise\" :\n",
        "   print(isim ,\"ehliyet alma koşullarını sağlıyorsunuz.\") \n",
        "elif yaş >= 18 and eğitim_durumu == \"üniversite\" :\n",
        "   print(isim ,\"ehliyet alma koşullarını sağlıyorsunuz.\") \n",
        "else : \n",
        "   print(isim ,\"ehliyet alma koşullarını sağlamıyorsunuz.\")\n",
        "\n"
      ]
    },
    {
      "cell_type": "markdown",
      "metadata": {
        "id": "eUkxVSAE_Te_"
      },
      "source": [
        "# Problem 7\n",
        "Bir yılın artık yıl olup olmadığını kontrol etmek için bir program yazın. \n",
        "Artık yıl kuralı:\n",
        "\n",
        "a) Eğer yılın son iki basamağı (00) ile bitmiyor ve yalnızca 4'e tam bölünüyorsa artık yıldır. Ya da, \n",
        "\n",
        "b) Eğer yıl 400'e tam bölünüyorsa artık yıldır.\n",
        "\n",
        "**Örneğin**\n",
        "```\n",
        "2017 artık yıl değildir.\n",
        "1900 artık yıl değildir\n",
        "2012 artık yıldır.\n",
        "2000 artık yıldır.\n",
        "```"
      ]
    },
    {
      "cell_type": "code",
      "execution_count": 63,
      "metadata": {
        "id": "4uWh8qUL_Te_"
      },
      "outputs": [
        {
          "name": "stdout",
          "output_type": "stream",
          "text": [
            "2000 artık yıldır\n"
          ]
        }
      ],
      "source": [
        "# 7.Problemin Çözümünü Buraya Yazınız\n",
        "x = int(input(\"bir yıl giriniz: \"))\n",
        "if x % 4 == 0 and x % 100 != 0 :\n",
        "    print( x , \"artık yıldır\")\n",
        "elif x % 400 == 0 :\n",
        "    print( x ,\"artık yıldır\")\n",
        "else :\n",
        "    print(x , \"artık yıl değildir.\")"
      ]
    }
  ],
  "metadata": {
    "colab": {
      "provenance": []
    },
    "kernelspec": {
      "display_name": "Python 3.10.5 64-bit",
      "language": "python",
      "name": "python3"
    },
    "language_info": {
      "codemirror_mode": {
        "name": "ipython",
        "version": 3
      },
      "file_extension": ".py",
      "mimetype": "text/x-python",
      "name": "python",
      "nbconvert_exporter": "python",
      "pygments_lexer": "ipython3",
      "version": "3.11.1"
    },
    "orig_nbformat": 4,
    "vscode": {
      "interpreter": {
        "hash": "5026d2d6e7aaaaba093def813beadff083d8733e4a511af01735cbabd156995d"
      }
    }
  },
  "nbformat": 4,
  "nbformat_minor": 0
}
